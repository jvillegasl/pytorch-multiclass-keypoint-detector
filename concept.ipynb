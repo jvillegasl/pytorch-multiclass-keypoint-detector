{
 "cells": [
  {
   "cell_type": "code",
   "execution_count": 7,
   "metadata": {},
   "outputs": [],
   "source": [
    "import torch\n",
    "from torch import nn\n",
    "import torch.nn.functional as F\n",
    "\n",
    "torch.set_printoptions(precision=10)"
   ]
  },
  {
   "cell_type": "code",
   "execution_count": 41,
   "metadata": {},
   "outputs": [],
   "source": [
    "decoder_layer = nn.TransformerDecoderLayer(d_model=4, nhead=2, dropout=0)\n",
    "transformer_decoder = nn.TransformerDecoder(decoder_layer=decoder_layer, num_layers=3)\n",
    "memory = torch.rand(10, 1, 4)\n",
    "\n",
    "mlp = nn.Linear(4, 1)"
   ]
  },
  {
   "cell_type": "code",
   "execution_count": 51,
   "metadata": {},
   "outputs": [],
   "source": [
    "tgt1 = torch.rand(8, 1, 4)\n",
    "tgt2 = tgt1[:6]\n",
    "tgt3 = torch.cat([tgt2, torch.rand(2, 1, 4)], 0)\n",
    "\n",
    "inf = float(\"inf\")\n",
    "\n",
    "tgt1_mask = F.pad(torch.zeros(6,6), (0,2,0,2), \"constant\", -1e32)\n",
    "tgt1_mask = tgt1_mask.unsqueeze(0).repeat(2, 1, 1)"
   ]
  },
  {
   "cell_type": "code",
   "execution_count": 54,
   "metadata": {},
   "outputs": [
    {
     "data": {
      "text/plain": [
       "tensor([[False, False, False, False, False, False,  True,  True]])"
      ]
     },
     "execution_count": 54,
     "metadata": {},
     "output_type": "execute_result"
    }
   ],
   "source": [
    "tgt1_mask2 = torch.zeros(1, 6, dtype=torch.bool)\n",
    "tgt1_mask2 = F.pad(tgt1_mask2, (0, 2), \"constant\", True)\n",
    "tgt1_mask2"
   ]
  },
  {
   "cell_type": "code",
   "execution_count": 55,
   "metadata": {},
   "outputs": [
    {
     "name": "stdout",
     "output_type": "stream",
     "text": [
      "tensor([[-0.2519350052],\n",
      "        [ 1.6431033611],\n",
      "        [ 1.6271638870],\n",
      "        [ 0.7572662830],\n",
      "        [-0.5194247961],\n",
      "        [ 0.1684416533]], grad_fn=<SliceBackward0>)\n",
      "tensor([[-0.2519350052],\n",
      "        [ 1.6431031227],\n",
      "        [ 1.6271638870],\n",
      "        [ 0.7572662234],\n",
      "        [-0.5194247961],\n",
      "        [ 0.1684416533]], grad_fn=<SliceBackward0>)\n",
      "tensor([[-0.2519350052],\n",
      "        [ 1.6431033611],\n",
      "        [ 1.6271638870],\n",
      "        [ 0.7572662830],\n",
      "        [-0.5194247961],\n",
      "        [ 0.1684416533]], grad_fn=<SliceBackward0>)\n"
     ]
    }
   ],
   "source": [
    "out1 = mlp(transformer_decoder(tgt1, memory, tgt_mask=tgt1_mask)[:6])\n",
    "\n",
    "out2 = mlp(transformer_decoder(tgt2, memory))\n",
    "\n",
    "out3 = mlp(transformer_decoder(tgt3, memory, tgt_mask=tgt1_mask)[:6])\n",
    "\n",
    "print(out1[:,0,:], out2[:,0,:], out3[:,0,:], sep='\\n')"
   ]
  },
  {
   "cell_type": "code",
   "execution_count": 56,
   "metadata": {},
   "outputs": [
    {
     "name": "stdout",
     "output_type": "stream",
     "text": [
      "tensor([[-0.2519350052],\n",
      "        [ 1.6431033611],\n",
      "        [ 1.6271638870],\n",
      "        [ 0.7572662830],\n",
      "        [-0.5194247961],\n",
      "        [ 0.1684416533]], grad_fn=<SliceBackward0>)\n",
      "tensor([[-0.2519350052],\n",
      "        [ 1.6431031227],\n",
      "        [ 1.6271638870],\n",
      "        [ 0.7572662234],\n",
      "        [-0.5194247961],\n",
      "        [ 0.1684416533]], grad_fn=<SliceBackward0>)\n",
      "tensor([[-0.2519350052],\n",
      "        [ 1.6431033611],\n",
      "        [ 1.6271638870],\n",
      "        [ 0.7572662830],\n",
      "        [-0.5194247961],\n",
      "        [ 0.1684416533]], grad_fn=<SliceBackward0>)\n"
     ]
    }
   ],
   "source": [
    "out1 = mlp(transformer_decoder(tgt1, memory, tgt_key_padding_mask=tgt1_mask2)[:6])\n",
    "\n",
    "out2 = mlp(transformer_decoder(tgt2, memory))\n",
    "\n",
    "out3 = mlp(transformer_decoder(tgt3, memory, tgt_key_padding_mask=tgt1_mask2)[:6])\n",
    "\n",
    "print(out1[:,0,:], out2[:,0,:], out3[:,0,:], sep='\\n')"
   ]
  }
 ],
 "metadata": {
  "kernelspec": {
   "display_name": "pytorch",
   "language": "python",
   "name": "python3"
  },
  "language_info": {
   "codemirror_mode": {
    "name": "ipython",
    "version": 3
   },
   "file_extension": ".py",
   "mimetype": "text/x-python",
   "name": "python",
   "nbconvert_exporter": "python",
   "pygments_lexer": "ipython3",
   "version": "3.12.1"
  }
 },
 "nbformat": 4,
 "nbformat_minor": 2
}
