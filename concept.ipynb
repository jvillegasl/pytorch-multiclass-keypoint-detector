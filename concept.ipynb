{
 "cells": [
  {
   "cell_type": "code",
   "execution_count": 1,
   "metadata": {},
   "outputs": [],
   "source": [
    "import torch\n",
    "from torch import nn\n",
    "import torch.nn.functional as F"
   ]
  },
  {
   "cell_type": "code",
   "execution_count": 65,
   "metadata": {},
   "outputs": [],
   "source": [
    "decoder_layer = nn.TransformerDecoderLayer(d_model=4, nhead=2, dropout=0)\n",
    "transformer_decoder = nn.TransformerDecoder(decoder_layer=decoder_layer, num_layers=3)\n",
    "memory = torch.rand(10, 5, 4)\n",
    "\n",
    "mlp = nn.Linear(4, 1)"
   ]
  },
  {
   "cell_type": "code",
   "execution_count": 83,
   "metadata": {},
   "outputs": [],
   "source": [
    "tgt1 = torch.rand(8, 5, 4)\n",
    "tgt2 = tgt1[:6]\n",
    "tgt3 = torch.cat([tgt2, torch.rand(2, 5, 4)], 0)\n",
    "\n",
    "inf = float(\"inf\")\n",
    "\n",
    "tgt1_mask = F.pad(torch.zeros(6,6), (0,2,0,2), \"constant\", -1e24)\n",
    "tgt1_mask = tgt1_mask.unsqueeze(0).repeat(2, 1, 1)\n",
    "tgt1_mask = torch.cat([tgt1_mask.unsqueeze(0), torch.zeros(4, 2, 8, 8)])\n",
    "tgt1_mask = tgt1_mask.flatten(0, 1)"
   ]
  },
  {
   "cell_type": "code",
   "execution_count": 84,
   "metadata": {},
   "outputs": [],
   "source": [
    "out1 = mlp(transformer_decoder(tgt1, memory, tgt_mask=tgt1_mask)[:6])\n",
    "\n",
    "out2 = mlp(transformer_decoder(tgt2, memory, tgt_mask=torch.zeros(6,6)))\n",
    "\n",
    "out3 = mlp(transformer_decoder(tgt3, memory, tgt_mask=tgt1_mask)[:6])\n"
   ]
  },
  {
   "cell_type": "code",
   "execution_count": 85,
   "metadata": {},
   "outputs": [],
   "source": [
    "torch.set_printoptions(precision=10)"
   ]
  },
  {
   "cell_type": "code",
   "execution_count": 86,
   "metadata": {},
   "outputs": [
    {
     "data": {
      "text/plain": [
       "(tensor([[ 1.9686186314e-01],\n",
       "         [ 1.1771700382e+00],\n",
       "         [-8.0858796835e-01],\n",
       "         [ 1.0047802925e+00],\n",
       "         [-4.7240054607e-01],\n",
       "         [-4.0441751480e-04]], grad_fn=<SliceBackward0>),\n",
       " tensor([[ 1.9686183333e-01],\n",
       "         [ 1.1771700382e+00],\n",
       "         [-8.0858790874e-01],\n",
       "         [ 1.0047802925e+00],\n",
       "         [-4.7240048647e-01],\n",
       "         [-4.0441751480e-04]], grad_fn=<SliceBackward0>),\n",
       " tensor([[ 1.9686186314e-01],\n",
       "         [ 1.1771700382e+00],\n",
       "         [-8.0858796835e-01],\n",
       "         [ 1.0047802925e+00],\n",
       "         [-4.7240054607e-01],\n",
       "         [-4.0441751480e-04]], grad_fn=<SliceBackward0>))"
      ]
     },
     "execution_count": 86,
     "metadata": {},
     "output_type": "execute_result"
    }
   ],
   "source": [
    "out1[:,0,:], out2[:,0,:], out3[:,0,:]"
   ]
  }
 ],
 "metadata": {
  "kernelspec": {
   "display_name": "pytorch",
   "language": "python",
   "name": "python3"
  },
  "language_info": {
   "codemirror_mode": {
    "name": "ipython",
    "version": 3
   },
   "file_extension": ".py",
   "mimetype": "text/x-python",
   "name": "python",
   "nbconvert_exporter": "python",
   "pygments_lexer": "ipython3",
   "version": "3.11.5"
  }
 },
 "nbformat": 4,
 "nbformat_minor": 2
}
