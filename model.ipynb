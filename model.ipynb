{
 "cells": [
  {
   "cell_type": "code",
   "execution_count": 50,
   "metadata": {},
   "outputs": [
    {
     "name": "stdout",
     "output_type": "stream",
     "text": [
      "The autoreload extension is already loaded. To reload it, use:\n",
      "  %reload_ext autoreload\n"
     ]
    }
   ],
   "source": [
    "%load_ext autoreload\n",
    "%autoreload 2"
   ]
  },
  {
   "cell_type": "code",
   "execution_count": 51,
   "metadata": {},
   "outputs": [],
   "source": [
    "import torch\n",
    "from models.model import MulticlassKptsDetector\n",
    "from models.model import MKDPred"
   ]
  },
  {
   "cell_type": "code",
   "execution_count": 52,
   "metadata": {},
   "outputs": [
    {
     "name": "stderr",
     "output_type": "stream",
     "text": [
      "/home/jvillegasl/miniconda3/envs/pytorch/lib/python3.11/site-packages/torchvision/models/_utils.py:208: UserWarning: The parameter 'pretrained' is deprecated since 0.13 and may be removed in the future, please use 'weights' instead.\n",
      "  warnings.warn(\n",
      "/home/jvillegasl/miniconda3/envs/pytorch/lib/python3.11/site-packages/torchvision/models/_utils.py:223: UserWarning: Arguments other than a weight enum or `None` for 'weights' are deprecated since 0.13 and may be removed in the future. The current behavior is equivalent to passing `weights=ResNet18_Weights.IMAGENET1K_V1`. You can also use `weights=ResNet18_Weights.DEFAULT` to get the most up-to-date weights.\n",
      "  warnings.warn(msg)\n"
     ]
    },
    {
     "name": "stdout",
     "output_type": "stream",
     "text": [
      "pad 2\n",
      "mask tensor([False, False, False,  True,  True])\n",
      "pad 1\n",
      "mask tensor([False, False, False, False,  True])\n",
      "pad 0\n",
      "mask tensor([False, False, False, False, False])\n"
     ]
    },
    {
     "name": "stderr",
     "output_type": "stream",
     "text": [
      "/home/jvillegasl/miniconda3/envs/pytorch/lib/python3.11/site-packages/torch/nn/modules/transformer.py:282: UserWarning: enable_nested_tensor is True, but self.use_nested_tensor is False because encoder_layer.self_attn.batch_first was not True(use batch_first for better inference performance)\n",
      "  warnings.warn(f\"enable_nested_tensor is True, but self.use_nested_tensor is False because {why_not_sparsity_fast_path}\")\n"
     ]
    }
   ],
   "source": [
    "model = MulticlassKptsDetector([3, 4, 5], 64)\n",
    "x = torch.rand(3, 3, 200, 200)\n",
    "t = torch.Tensor([0, 1, 2]).int()\n",
    "\n",
    "pred: MKDPred = model(x, t)"
   ]
  },
  {
   "cell_type": "code",
   "execution_count": 53,
   "metadata": {},
   "outputs": [
    {
     "data": {
      "text/plain": [
       "(tensor([[[0.4898, 0.5008],\n",
       "          [0.4871, 0.4967],\n",
       "          [0.5204, 0.4808],\n",
       "          [0.4561, 0.4501],\n",
       "          [0.5312, 0.4964]],\n",
       " \n",
       "         [[0.5603, 0.5496],\n",
       "          [0.4310, 0.4890],\n",
       "          [0.4678, 0.4899],\n",
       "          [0.4118, 0.4900],\n",
       "          [0.4238, 0.5134]],\n",
       " \n",
       "         [[0.4890, 0.3549],\n",
       "          [0.4678, 0.3502],\n",
       "          [0.4925, 0.4229],\n",
       "          [0.5255, 0.3988],\n",
       "          [0.4537, 0.4100]]], grad_fn=<SigmoidBackward0>),\n",
       " tensor([[False, False, False,  True,  True],\n",
       "         [False, False, False, False,  True],\n",
       "         [False, False, False, False, False]]))"
      ]
     },
     "execution_count": 53,
     "metadata": {},
     "output_type": "execute_result"
    }
   ],
   "source": [
    "pred.batch_kpts, pred.masks"
   ]
  },
  {
   "cell_type": "code",
   "execution_count": 54,
   "metadata": {},
   "outputs": [
    {
     "data": {
      "text/plain": [
       "[tensor([[0.4898, 0.5008],\n",
       "         [0.4871, 0.4967],\n",
       "         [0.5204, 0.4808]], grad_fn=<IndexBackward0>),\n",
       " tensor([[0.5603, 0.5496],\n",
       "         [0.4310, 0.4890],\n",
       "         [0.4678, 0.4899],\n",
       "         [0.4118, 0.4900]], grad_fn=<IndexBackward0>),\n",
       " tensor([[0.4890, 0.3549],\n",
       "         [0.4678, 0.3502],\n",
       "         [0.4925, 0.4229],\n",
       "         [0.5255, 0.3988],\n",
       "         [0.4537, 0.4100]], grad_fn=<IndexBackward0>)]"
      ]
     },
     "execution_count": 54,
     "metadata": {},
     "output_type": "execute_result"
    }
   ],
   "source": [
    "pred.unmasked_kpts"
   ]
  },
  {
   "cell_type": "code",
   "execution_count": 55,
   "metadata": {},
   "outputs": [
    {
     "data": {
      "text/plain": [
       "tensor([[0.4898, 0.5008],\n",
       "        [0.4871, 0.4967],\n",
       "        [0.5204, 0.4808],\n",
       "        [0.5603, 0.5496],\n",
       "        [0.4310, 0.4890],\n",
       "        [0.4678, 0.4899],\n",
       "        [0.4118, 0.4900],\n",
       "        [0.4890, 0.3549],\n",
       "        [0.4678, 0.3502],\n",
       "        [0.4925, 0.4229],\n",
       "        [0.5255, 0.3988],\n",
       "        [0.4537, 0.4100]], grad_fn=<IndexBackward0>)"
      ]
     },
     "execution_count": 55,
     "metadata": {},
     "output_type": "execute_result"
    }
   ],
   "source": [
    "pred.flat_unmasked_kpts"
   ]
  }
 ],
 "metadata": {
  "kernelspec": {
   "display_name": "pytorch",
   "language": "python",
   "name": "python3"
  },
  "language_info": {
   "codemirror_mode": {
    "name": "ipython",
    "version": 3
   },
   "file_extension": ".py",
   "mimetype": "text/x-python",
   "name": "python",
   "nbconvert_exporter": "python",
   "pygments_lexer": "ipython3",
   "version": "3.11.5"
  }
 },
 "nbformat": 4,
 "nbformat_minor": 2
}
