{
 "cells": [
  {
   "cell_type": "code",
   "execution_count": 1,
   "metadata": {},
   "outputs": [],
   "source": [
    "%load_ext autoreload\n",
    "%autoreload 2"
   ]
  },
  {
   "cell_type": "code",
   "execution_count": 3,
   "metadata": {},
   "outputs": [],
   "source": [
    "import torch\n",
    "from torch import nn\n",
    "import torch.nn.functional as F"
   ]
  },
  {
   "cell_type": "code",
   "execution_count": 22,
   "metadata": {},
   "outputs": [],
   "source": [
    "def loss_fn(y) -> torch.Tensor:\n",
    "    tgt = torch.rand(3, 1)\n",
    "    loss = nn.L1Loss()\n",
    "\n",
    "    output = loss(torch.narrow(y, 0, 0, tgt.size(0)), tgt)\n",
    "\n",
    "    return output"
   ]
  },
  {
   "cell_type": "code",
   "execution_count": 46,
   "metadata": {},
   "outputs": [
    {
     "data": {
      "text/plain": [
       "<All keys matched successfully>"
      ]
     },
     "execution_count": 46,
     "metadata": {},
     "output_type": "execute_result"
    }
   ],
   "source": [
    "model1 = nn.Linear(3, 1)\n",
    "\n",
    "w = model1.state_dict()\n",
    "\n",
    "model2 = nn.Linear(3, 1)\n",
    "model2.load_state_dict(w)"
   ]
  },
  {
   "cell_type": "code",
   "execution_count": 47,
   "metadata": {},
   "outputs": [],
   "source": [
    "x1 = torch.rand(5, 3)\n",
    "x2 = x1[:3]"
   ]
  },
  {
   "cell_type": "code",
   "execution_count": 48,
   "metadata": {},
   "outputs": [
    {
     "data": {
      "text/plain": [
       "(tensor([[0.8017],\n",
       "         [0.6081],\n",
       "         [0.9072],\n",
       "         [0.9016],\n",
       "         [0.9481]], grad_fn=<AddmmBackward0>),\n",
       " tensor([[0.8017],\n",
       "         [0.6081],\n",
       "         [0.9072]], grad_fn=<AddmmBackward0>))"
      ]
     },
     "execution_count": 48,
     "metadata": {},
     "output_type": "execute_result"
    }
   ],
   "source": [
    "y1 = model1(x1)\n",
    "y2 = model2(x2)\n",
    "\n",
    "y1, y2"
   ]
  },
  {
   "cell_type": "code",
   "execution_count": 49,
   "metadata": {},
   "outputs": [],
   "source": [
    "optimizer1 = torch.optim.SGD(model1.parameters(), lr=0.001, momentum=0.9)\n",
    "optimizer2 = torch.optim.SGD(model2.parameters(), lr=0.001, momentum=0.9)"
   ]
  },
  {
   "cell_type": "code",
   "execution_count": 59,
   "metadata": {},
   "outputs": [],
   "source": [
    "model1.train(True)\n",
    "\n",
    "y1 = model1(x1)\n",
    "\n",
    "loss = loss_fn(y1)\n",
    "loss.backward()\n",
    "\n",
    "optimizer1.step()"
   ]
  },
  {
   "cell_type": "code",
   "execution_count": 60,
   "metadata": {},
   "outputs": [],
   "source": [
    "model2.train(True)\n",
    "\n",
    "y2 = model2(x2)\n",
    "\n",
    "loss = loss_fn(y2)\n",
    "loss.backward()\n",
    "\n",
    "optimizer2.step()"
   ]
  },
  {
   "cell_type": "code",
   "execution_count": 61,
   "metadata": {},
   "outputs": [
    {
     "data": {
      "text/plain": [
       "(tensor([[0.8084],\n",
       "         [0.6122],\n",
       "         [0.9097],\n",
       "         [0.9063],\n",
       "         [0.9534]], grad_fn=<AddmmBackward0>),\n",
       " tensor([[0.7933],\n",
       "         [0.5996],\n",
       "         [0.8969]], grad_fn=<AddmmBackward0>))"
      ]
     },
     "execution_count": 61,
     "metadata": {},
     "output_type": "execute_result"
    }
   ],
   "source": [
    "model1.eval()\n",
    "model2.eval()\n",
    "\n",
    "y1 = model1(x1)\n",
    "y2 = model2(x2)\n",
    "\n",
    "y1, y2"
   ]
  }
 ],
 "metadata": {
  "kernelspec": {
   "display_name": "pytorch",
   "language": "python",
   "name": "python3"
  },
  "language_info": {
   "codemirror_mode": {
    "name": "ipython",
    "version": 3
   },
   "file_extension": ".py",
   "mimetype": "text/x-python",
   "name": "python",
   "nbconvert_exporter": "python",
   "pygments_lexer": "ipython3",
   "version": "3.12.1"
  }
 },
 "nbformat": 4,
 "nbformat_minor": 2
}
