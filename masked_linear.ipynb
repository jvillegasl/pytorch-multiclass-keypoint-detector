{
 "cells": [
  {
   "cell_type": "code",
   "execution_count": 167,
   "metadata": {},
   "outputs": [],
   "source": [
    "import torch\n",
    "from torch import nn"
   ]
  },
  {
   "cell_type": "code",
   "execution_count": 168,
   "metadata": {},
   "outputs": [],
   "source": [
    "D_MODEL = 7\n",
    "D_OUTPUT = 4\n",
    "BATCH_SIZE = 3"
   ]
  },
  {
   "cell_type": "code",
   "execution_count": 169,
   "metadata": {},
   "outputs": [],
   "source": [
    "def train(model, x, label, optimizer, loss_fn):\n",
    "    model.train()\n",
    "    optimizer.zero_grad()\n",
    "\n",
    "    y = model(x)\n",
    "\n",
    "    t = torch.narrow(y, 1, 0, label.size(0))\n",
    "\n",
    "    loss = loss_fn(t, label)\n",
    "    loss.backward()\n",
    "\n",
    "    optimizer.step()\n",
    "\n",
    "    print(\"======================================\")\n",
    "    print(\"Input:\", x.shape)\n",
    "    print(\"Output:\", y.shape)\n",
    "    print(\"Loss:\", loss)\n"
   ]
  },
  {
   "cell_type": "code",
   "execution_count": 170,
   "metadata": {},
   "outputs": [],
   "source": [
    "model1 = nn.Linear(D_MODEL, D_OUTPUT)\n",
    "model2 = nn.Linear(D_MODEL, D_OUTPUT)\n",
    "model3 = nn.Linear(D_MODEL, D_OUTPUT)\n",
    "\n",
    "w = model1.state_dict()\n",
    "model2.load_state_dict(w)\n",
    "model3.load_state_dict(w)\n",
    "\n",
    "optimizer1 = torch.optim.SGD(model1.parameters(), lr=0.01)\n",
    "optimizer2 = torch.optim.SGD(model2.parameters(), lr=0.01)\n",
    "optimizer3 = torch.optim.SGD(model3.parameters(), lr=0.01)\n",
    "\n",
    "loss_fn = nn.L1Loss()"
   ]
  },
  {
   "cell_type": "code",
   "execution_count": 171,
   "metadata": {},
   "outputs": [],
   "source": [
    "x1 = torch.rand(BATCH_SIZE, 10, D_MODEL)\n",
    "x2 = x1.clone()[:,:3]\n",
    "x3 = x1.clone()[:,:3]\n",
    "label = torch.rand(BATCH_SIZE, 3, D_OUTPUT)\n",
    "label_alt = torch.rand(BATCH_SIZE, 3, D_OUTPUT)"
   ]
  },
  {
   "cell_type": "code",
   "execution_count": 172,
   "metadata": {},
   "outputs": [
    {
     "name": "stdout",
     "output_type": "stream",
     "text": [
      "======================================\n",
      "Input: torch.Size([3, 10, 7])\n",
      "Output: torch.Size([3, 10, 4])\n",
      "Loss: tensor(0.6990, grad_fn=<MeanBackward0>)\n",
      "======================================\n",
      "Input: torch.Size([3, 3, 7])\n",
      "Output: torch.Size([3, 3, 4])\n",
      "Loss: tensor(0.6990, grad_fn=<MeanBackward0>)\n",
      "======================================\n",
      "Input: torch.Size([3, 3, 7])\n",
      "Output: torch.Size([3, 3, 4])\n",
      "Loss: tensor(0.6248, grad_fn=<MeanBackward0>)\n"
     ]
    }
   ],
   "source": [
    "train(model1, x1, label, optimizer1, loss_fn)\n",
    "train(model2, x2, label, optimizer2, loss_fn)\n",
    "train(model3, x3, label_alt, optimizer3, loss_fn)"
   ]
  },
  {
   "cell_type": "code",
   "execution_count": 173,
   "metadata": {},
   "outputs": [
    {
     "data": {
      "text/plain": [
       "(tensor([[ 0.0073, -0.0464,  0.0789,  0.0083, -0.0264,  0.0192,  0.0296],\n",
       "         [-0.1141, -0.1026, -0.1075, -0.1533, -0.1392, -0.1400, -0.1333],\n",
       "         [-0.1141, -0.1026, -0.1075, -0.1533, -0.1392, -0.1400, -0.1333],\n",
       "         [-0.0168,  0.0207, -0.0066,  0.0607,  0.0335,  0.0204, -0.0080]]),\n",
       " tensor([[ 0.0073, -0.0464,  0.0789,  0.0083, -0.0264,  0.0192,  0.0296],\n",
       "         [-0.1141, -0.1026, -0.1075, -0.1533, -0.1392, -0.1400, -0.1333],\n",
       "         [-0.1141, -0.1026, -0.1075, -0.1533, -0.1392, -0.1400, -0.1333],\n",
       "         [-0.0168,  0.0207, -0.0066,  0.0607,  0.0335,  0.0204, -0.0080]]),\n",
       " tensor([[-0.0481, -0.0457, -0.0202, -0.0101, -0.0994, -0.0031, -0.0788],\n",
       "         [-0.1141, -0.1026, -0.1075, -0.1533, -0.1392, -0.1400, -0.1333],\n",
       "         [-0.1125, -0.0997, -0.0572, -0.0992, -0.1367, -0.0907, -0.1332],\n",
       "         [-0.0920, -0.0543, -0.1065, -0.1146, -0.1232, -0.1060, -0.1271]]))"
      ]
     },
     "execution_count": 173,
     "metadata": {},
     "output_type": "execute_result"
    }
   ],
   "source": [
    "model1.weight.grad, model2.weight.grad, model3.weight.grad"
   ]
  },
  {
   "cell_type": "code",
   "execution_count": 174,
   "metadata": {},
   "outputs": [
    {
     "data": {
      "text/plain": [
       "(tensor([ 0.0278, -0.2500, -0.2500,  0.0278]),\n",
       " tensor([ 0.0278, -0.2500, -0.2500,  0.0278]),\n",
       " tensor([-0.0833, -0.2500, -0.1944, -0.1944]))"
      ]
     },
     "execution_count": 174,
     "metadata": {},
     "output_type": "execute_result"
    }
   ],
   "source": [
    "model1.bias.grad, model2.bias.grad, model3.bias.grad"
   ]
  },
  {
   "cell_type": "code",
   "execution_count": 175,
   "metadata": {},
   "outputs": [
    {
     "data": {
      "text/plain": [
       "(OrderedDict([('weight',\n",
       "               tensor([[ 0.0825, -0.1129,  0.2361,  0.3138, -0.1080,  0.0393, -0.1499],\n",
       "                       [-0.2254,  0.1682, -0.1074, -0.0833,  0.2779, -0.3085, -0.1837],\n",
       "                       [-0.0502,  0.0518,  0.0295, -0.0972, -0.2373, -0.1899, -0.1611],\n",
       "                       [-0.3544,  0.0774, -0.1833,  0.1362,  0.0135,  0.3510,  0.0616]])),\n",
       "              ('bias', tensor([ 0.2968, -0.3719,  0.3636,  0.1682]))]),\n",
       " OrderedDict([('weight',\n",
       "               tensor([[ 0.0825, -0.1129,  0.2361,  0.3138, -0.1080,  0.0393, -0.1499],\n",
       "                       [-0.2254,  0.1682, -0.1074, -0.0833,  0.2779, -0.3085, -0.1837],\n",
       "                       [-0.0502,  0.0518,  0.0295, -0.0972, -0.2373, -0.1899, -0.1611],\n",
       "                       [-0.3544,  0.0774, -0.1833,  0.1362,  0.0135,  0.3510,  0.0616]])),\n",
       "              ('bias', tensor([ 0.2968, -0.3719,  0.3636,  0.1682]))]),\n",
       " OrderedDict([('weight',\n",
       "               tensor([[ 0.0830, -0.1129,  0.2371,  0.3140, -0.1073,  0.0395, -0.1488],\n",
       "                       [-0.2254,  0.1682, -0.1074, -0.0833,  0.2779, -0.3085, -0.1837],\n",
       "                       [-0.0502,  0.0518,  0.0290, -0.0978, -0.2373, -0.1904, -0.1611],\n",
       "                       [-0.3537,  0.0782, -0.1823,  0.1379,  0.0150,  0.3522,  0.0628]])),\n",
       "              ('bias', tensor([ 0.2979, -0.3719,  0.3630,  0.1704]))]))"
      ]
     },
     "execution_count": 175,
     "metadata": {},
     "output_type": "execute_result"
    }
   ],
   "source": [
    "model1.state_dict(), model2.state_dict(), model3.state_dict()"
   ]
  },
  {
   "cell_type": "code",
   "execution_count": 176,
   "metadata": {},
   "outputs": [
    {
     "name": "stdout",
     "output_type": "stream",
     "text": [
      "tensor([[True, True, True, True, True, True, True],\n",
      "        [True, True, True, True, True, True, True],\n",
      "        [True, True, True, True, True, True, True],\n",
      "        [True, True, True, True, True, True, True]])\n",
      "tensor([True, True, True, True])\n",
      "==========================================================\n",
      "tensor([[False, False, False, False, False, False, False],\n",
      "        [ True,  True,  True,  True,  True,  True,  True],\n",
      "        [False, False, False, False, False, False, False],\n",
      "        [False, False, False, False, False, False, False]])\n",
      "tensor([False,  True, False, False])\n"
     ]
    }
   ],
   "source": [
    "print(model1.weight == model2.weight)\n",
    "print(model1.bias == model2.bias)\n",
    "print(\"==========================================================\")\n",
    "print(model3.weight == model2.weight)\n",
    "print(model3.bias == model2.bias)"
   ]
  }
 ],
 "metadata": {
  "kernelspec": {
   "display_name": "pytorch",
   "language": "python",
   "name": "python3"
  },
  "language_info": {
   "codemirror_mode": {
    "name": "ipython",
    "version": 3
   },
   "file_extension": ".py",
   "mimetype": "text/x-python",
   "name": "python",
   "nbconvert_exporter": "python",
   "pygments_lexer": "ipython3",
   "version": "3.11.5"
  }
 },
 "nbformat": 4,
 "nbformat_minor": 2
}
